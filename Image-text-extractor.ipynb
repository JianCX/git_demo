{
 "cells": [
  {
   "cell_type": "markdown",
   "metadata": {},
   "source": [
    "## Image-text-extractor"
   ]
  },
  {
   "cell_type": "code",
   "execution_count": 1,
   "metadata": {
    "collapsed": true
   },
   "outputs": [],
   "source": [
    "import pandas as pd\n",
    "import numpy as np\n",
    "import pytesseract\n",
    "from pytesseract import image_to_string\n",
    "from PIL import Image, ImageEnhance, ImageFilter"
   ]
  },
  {
   "cell_type": "code",
   "execution_count": 2,
   "metadata": {
    "collapsed": false
   },
   "outputs": [
    {
     "name": "stdout",
     "output_type": "stream",
     "text": [
      "Threshold selected :  162.0\n"
     ]
    },
    {
     "data": {
      "text/plain": [
       "True"
      ]
     },
     "execution_count": 2,
     "metadata": {},
     "output_type": "execute_result"
    }
   ],
   "source": [
    "# extract text from attachment\n",
    "import cv2\n",
    "\n",
    "img = cv2.imread(\"/Users/jxiao/Documents/LSDS/data/opp_attch/opp_attch_test_04.png\", 0)\n",
    "ret, thresh = cv2.threshold(img, 10, 255, cv2.THRESH_OTSU)\n",
    "\n",
    "print \"Threshold selected : \", ret\n",
    "cv2.imwrite(\"/Users/jxiao/Documents/LSDS/data/opp_attch/opp_attch_test_04_c.png\", thresh)"
   ]
  },
  {
   "cell_type": "code",
   "execution_count": 3,
   "metadata": {
    "collapsed": false,
    "scrolled": true
   },
   "outputs": [],
   "source": [
    "# myText = image_to_string(Image.open(\"/Users/jxiao/Documents/LSDS/data/opp_attch/opp_attch_test_0.png\"),config='-psm 10')\n",
    "img_test = (Image.open(\"/Users/jxiao/Documents/LSDS/data/opp_attch/opp_attch_test_04.png\"))"
   ]
  },
  {
   "cell_type": "code",
   "execution_count": 4,
   "metadata": {
    "collapsed": false
   },
   "outputs": [
    {
     "data": {
      "text/plain": [
       "'4) 1M lmvelul m m: [own hm and back. The\\nmp mm look \\xef\\xac\\x81ve hour\\\\ and Ihe Inp buck\\ntook four huu H: mmged 35 km/h on\\nthe relum Irip. Find the liver-Age mm of\\nthe Inp um'"
      ]
     },
     "execution_count": 4,
     "metadata": {},
     "output_type": "execute_result"
    }
   ],
   "source": [
    "image_to_string(img_test)"
   ]
  },
  {
   "cell_type": "code",
   "execution_count": 6,
   "metadata": {
    "collapsed": false
   },
   "outputs": [
    {
     "name": "stdout",
     "output_type": "stream",
     "text": [
      "4. 1m \"mm: (olfw «m mu ma mu w\n",
      "my mm am pm m.“ m w mp mm\n",
      "m mm hours Hr may“ xs mm on\n",
      "she mum mp mu m “aux gm: \"1\n",
      "menu) Ihrn‘\n"
     ]
    }
   ],
   "source": [
    "# im = Img.open(\"temp.jpg\") # the second one\n",
    "im = img_test\n",
    "im = im.filter(ImageFilter.MedianFilter())\n",
    "enhancer = ImageEnhance.Contrast(im)\n",
    "im = enhancer.enhance(2)\n",
    "im = im.convert('1')\n",
    "im.save(\"/Users/jxiao/Documents/LSDS/data/opp_attch/opp_attch_test_04_enhanced.png\")\n",
    "text = pytesseract.image_to_string(Image.open(\"/Users/jxiao/Documents/LSDS/data/opp_attch/opp_attch_test_04_enhanced.png\"))\n",
    "print(text)"
   ]
  },
  {
   "cell_type": "code",
   "execution_count": 7,
   "metadata": {
    "collapsed": false
   },
   "outputs": [],
   "source": [
    "# import pytesseract\n",
    "# from PIL import Image, ImageEnhance, ImageFilter\n",
    "\n",
    "# im = Image.open(\"/Users/jxiao/Documents/LSDS/data/opp_attch/opp_attch_test_01.png\") # the second one\n",
    "# im = im.filter(ImageFilter.MedianFilter())vv\n",
    "# enhancer = ImageEnhance.Contrast(im)\n",
    "# im = enhancer.enhance(2)\n",
    "# im = im.convert('1')\n",
    "# im.save(\"/Users/jxiao/Documents/LSDS/data/opp_attch/opp_attch_test_01_e.png\")\n",
    "# text = pytesseract.image_to_string(Image.open(\"/Users/jxiao/Documents/LSDS/data/opp_attch/opp_attch_test_01.png\"))\n",
    "# print(text)"
   ]
  },
  {
   "cell_type": "code",
   "execution_count": null,
   "metadata": {
    "collapsed": true
   },
   "outputs": [],
   "source": []
  },
  {
   "cell_type": "code",
   "execution_count": null,
   "metadata": {
    "collapsed": true
   },
   "outputs": [],
   "source": []
  }
 ],
 "metadata": {
  "kernelspec": {
   "display_name": "Python 2",
   "language": "python",
   "name": "python2"
  },
  "language_info": {
   "codemirror_mode": {
    "name": "ipython",
    "version": 2
   },
   "file_extension": ".py",
   "mimetype": "text/x-python",
   "name": "python",
   "nbconvert_exporter": "python",
   "pygments_lexer": "ipython2",
   "version": "2.7.13"
  }
 },
 "nbformat": 4,
 "nbformat_minor": 2
}
